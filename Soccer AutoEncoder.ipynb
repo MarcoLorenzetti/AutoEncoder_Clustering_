{
 "cells": [
  {
   "cell_type": "code",
   "execution_count": 158,
   "id": "f7f7276c",
   "metadata": {},
   "outputs": [],
   "source": [
    "import numpy as np\n",
    "from matplotlib import pyplot as plt\n",
    "import pandas as pd\n",
    "from IPython.display import clear_output\n",
    "\n",
    "import torch"
   ]
  },
  {
   "cell_type": "code",
   "execution_count": 65,
   "id": "671859d8",
   "metadata": {},
   "outputs": [],
   "source": [
    "filepath = 'stats players.csv'\n",
    "df = pd.read_csv(filepath)\n",
    "df = df.dropna(axis=1)\n",
    "df = df.drop(columns=['birthday_GMT', 'birthday'])"
   ]
  },
  {
   "cell_type": "code",
   "execution_count": 66,
   "id": "ebdd9cf2",
   "metadata": {},
   "outputs": [
    {
     "data": {
      "text/html": [
       "<div>\n",
       "<style scoped>\n",
       "    .dataframe tbody tr th:only-of-type {\n",
       "        vertical-align: middle;\n",
       "    }\n",
       "\n",
       "    .dataframe tbody tr th {\n",
       "        vertical-align: top;\n",
       "    }\n",
       "\n",
       "    .dataframe thead th {\n",
       "        text-align: right;\n",
       "    }\n",
       "</style>\n",
       "<table border=\"1\" class=\"dataframe\">\n",
       "  <thead>\n",
       "    <tr style=\"text-align: right;\">\n",
       "      <th></th>\n",
       "      <th>full_name</th>\n",
       "      <th>age</th>\n",
       "      <th>league</th>\n",
       "      <th>season</th>\n",
       "      <th>position</th>\n",
       "      <th>Current Club</th>\n",
       "      <th>minutes_played_overall</th>\n",
       "      <th>minutes_played_home</th>\n",
       "      <th>minutes_played_away</th>\n",
       "      <th>nationality</th>\n",
       "      <th>...</th>\n",
       "      <th>conceded_per_90_overall</th>\n",
       "      <th>min_per_conceded_overall</th>\n",
       "      <th>min_per_match</th>\n",
       "      <th>min_per_card_overall</th>\n",
       "      <th>min_per_assist_overall</th>\n",
       "      <th>cards_per_90_overall</th>\n",
       "      <th>rank_in_league_top_attackers</th>\n",
       "      <th>rank_in_league_top_midfielders</th>\n",
       "      <th>rank_in_league_top_defenders</th>\n",
       "      <th>rank_in_club_top_scorer</th>\n",
       "    </tr>\n",
       "  </thead>\n",
       "  <tbody>\n",
       "    <tr>\n",
       "      <th>0</th>\n",
       "      <td>Aaron Cresswell</td>\n",
       "      <td>32</td>\n",
       "      <td>Premier League</td>\n",
       "      <td>2018/2019</td>\n",
       "      <td>Defender</td>\n",
       "      <td>West Ham United</td>\n",
       "      <td>1589</td>\n",
       "      <td>888</td>\n",
       "      <td>701</td>\n",
       "      <td>England</td>\n",
       "      <td>...</td>\n",
       "      <td>1.25</td>\n",
       "      <td>72</td>\n",
       "      <td>79</td>\n",
       "      <td>1589</td>\n",
       "      <td>1589</td>\n",
       "      <td>0.06</td>\n",
       "      <td>290</td>\n",
       "      <td>191</td>\n",
       "      <td>80</td>\n",
       "      <td>20</td>\n",
       "    </tr>\n",
       "    <tr>\n",
       "      <th>1</th>\n",
       "      <td>Aaron Lennon</td>\n",
       "      <td>35</td>\n",
       "      <td>Premier League</td>\n",
       "      <td>2018/2019</td>\n",
       "      <td>Midfielder</td>\n",
       "      <td>Burnley</td>\n",
       "      <td>1217</td>\n",
       "      <td>487</td>\n",
       "      <td>730</td>\n",
       "      <td>England</td>\n",
       "      <td>...</td>\n",
       "      <td>1.48</td>\n",
       "      <td>61</td>\n",
       "      <td>76</td>\n",
       "      <td>1217</td>\n",
       "      <td>1217</td>\n",
       "      <td>0.07</td>\n",
       "      <td>196</td>\n",
       "      <td>187</td>\n",
       "      <td>-1</td>\n",
       "      <td>10</td>\n",
       "    </tr>\n",
       "    <tr>\n",
       "      <th>2</th>\n",
       "      <td>Aaron Mooy</td>\n",
       "      <td>32</td>\n",
       "      <td>Premier League</td>\n",
       "      <td>2018/2019</td>\n",
       "      <td>Midfielder</td>\n",
       "      <td>Huddersfield Town</td>\n",
       "      <td>2327</td>\n",
       "      <td>1190</td>\n",
       "      <td>1137</td>\n",
       "      <td>Australia</td>\n",
       "      <td>...</td>\n",
       "      <td>1.78</td>\n",
       "      <td>51</td>\n",
       "      <td>80</td>\n",
       "      <td>582</td>\n",
       "      <td>2327</td>\n",
       "      <td>0.15</td>\n",
       "      <td>144</td>\n",
       "      <td>233</td>\n",
       "      <td>-1</td>\n",
       "      <td>3</td>\n",
       "    </tr>\n",
       "    <tr>\n",
       "      <th>3</th>\n",
       "      <td>Aaron Ramsey</td>\n",
       "      <td>31</td>\n",
       "      <td>Premier League</td>\n",
       "      <td>2018/2019</td>\n",
       "      <td>Midfielder</td>\n",
       "      <td>Arsenal</td>\n",
       "      <td>1327</td>\n",
       "      <td>689</td>\n",
       "      <td>638</td>\n",
       "      <td>Wales</td>\n",
       "      <td>...</td>\n",
       "      <td>0.81</td>\n",
       "      <td>111</td>\n",
       "      <td>47</td>\n",
       "      <td>0</td>\n",
       "      <td>221</td>\n",
       "      <td>0.00</td>\n",
       "      <td>69</td>\n",
       "      <td>8</td>\n",
       "      <td>-1</td>\n",
       "      <td>5</td>\n",
       "    </tr>\n",
       "    <tr>\n",
       "      <th>4</th>\n",
       "      <td>Aaron Rowe</td>\n",
       "      <td>22</td>\n",
       "      <td>Premier League</td>\n",
       "      <td>2018/2019</td>\n",
       "      <td>Forward</td>\n",
       "      <td>Huddersfield Town</td>\n",
       "      <td>69</td>\n",
       "      <td>14</td>\n",
       "      <td>55</td>\n",
       "      <td>England</td>\n",
       "      <td>...</td>\n",
       "      <td>1.30</td>\n",
       "      <td>69</td>\n",
       "      <td>35</td>\n",
       "      <td>0</td>\n",
       "      <td>0</td>\n",
       "      <td>0.00</td>\n",
       "      <td>-1</td>\n",
       "      <td>-1</td>\n",
       "      <td>-1</td>\n",
       "      <td>31</td>\n",
       "    </tr>\n",
       "  </tbody>\n",
       "</table>\n",
       "<p>5 rows × 45 columns</p>\n",
       "</div>"
      ],
      "text/plain": [
       "         full_name  age          league     season    position  \\\n",
       "0  Aaron Cresswell   32  Premier League  2018/2019    Defender   \n",
       "1     Aaron Lennon   35  Premier League  2018/2019  Midfielder   \n",
       "2       Aaron Mooy   32  Premier League  2018/2019  Midfielder   \n",
       "3     Aaron Ramsey   31  Premier League  2018/2019  Midfielder   \n",
       "4       Aaron Rowe   22  Premier League  2018/2019     Forward   \n",
       "\n",
       "        Current Club  minutes_played_overall  minutes_played_home  \\\n",
       "0    West Ham United                    1589                  888   \n",
       "1            Burnley                    1217                  487   \n",
       "2  Huddersfield Town                    2327                 1190   \n",
       "3            Arsenal                    1327                  689   \n",
       "4  Huddersfield Town                      69                   14   \n",
       "\n",
       "   minutes_played_away nationality  ...  conceded_per_90_overall  \\\n",
       "0                  701     England  ...                     1.25   \n",
       "1                  730     England  ...                     1.48   \n",
       "2                 1137   Australia  ...                     1.78   \n",
       "3                  638       Wales  ...                     0.81   \n",
       "4                   55     England  ...                     1.30   \n",
       "\n",
       "   min_per_conceded_overall  min_per_match  min_per_card_overall  \\\n",
       "0                        72             79                  1589   \n",
       "1                        61             76                  1217   \n",
       "2                        51             80                   582   \n",
       "3                       111             47                     0   \n",
       "4                        69             35                     0   \n",
       "\n",
       "   min_per_assist_overall  cards_per_90_overall  rank_in_league_top_attackers  \\\n",
       "0                    1589                  0.06                           290   \n",
       "1                    1217                  0.07                           196   \n",
       "2                    2327                  0.15                           144   \n",
       "3                     221                  0.00                            69   \n",
       "4                       0                  0.00                            -1   \n",
       "\n",
       "   rank_in_league_top_midfielders  rank_in_league_top_defenders  \\\n",
       "0                             191                            80   \n",
       "1                             187                            -1   \n",
       "2                             233                            -1   \n",
       "3                               8                            -1   \n",
       "4                              -1                            -1   \n",
       "\n",
       "   rank_in_club_top_scorer  \n",
       "0                       20  \n",
       "1                       10  \n",
       "2                        3  \n",
       "3                        5  \n",
       "4                       31  \n",
       "\n",
       "[5 rows x 45 columns]"
      ]
     },
     "execution_count": 66,
     "metadata": {},
     "output_type": "execute_result"
    }
   ],
   "source": [
    "df.head()"
   ]
  },
  {
   "cell_type": "code",
   "execution_count": 67,
   "id": "fd46cd12",
   "metadata": {
    "scrolled": false
   },
   "outputs": [
    {
     "name": "stdout",
     "output_type": "stream",
     "text": [
      "total features foe each player: 45\n"
     ]
    }
   ],
   "source": [
    "cols = df.columns\n",
    "print(f'total features foe each player: {len(cols)}')"
   ]
  },
  {
   "cell_type": "markdown",
   "id": "2c4eb1d2",
   "metadata": {},
   "source": [
    "Select only numeric columns"
   ]
  },
  {
   "cell_type": "code",
   "execution_count": 68,
   "id": "63585c40",
   "metadata": {},
   "outputs": [
    {
     "data": {
      "text/html": [
       "<div>\n",
       "<style scoped>\n",
       "    .dataframe tbody tr th:only-of-type {\n",
       "        vertical-align: middle;\n",
       "    }\n",
       "\n",
       "    .dataframe tbody tr th {\n",
       "        vertical-align: top;\n",
       "    }\n",
       "\n",
       "    .dataframe thead th {\n",
       "        text-align: right;\n",
       "    }\n",
       "</style>\n",
       "<table border=\"1\" class=\"dataframe\">\n",
       "  <thead>\n",
       "    <tr style=\"text-align: right;\">\n",
       "      <th></th>\n",
       "      <th>age</th>\n",
       "      <th>minutes_played_overall</th>\n",
       "      <th>minutes_played_home</th>\n",
       "      <th>minutes_played_away</th>\n",
       "      <th>appearances_overall</th>\n",
       "      <th>appearances_home</th>\n",
       "      <th>appearances_away</th>\n",
       "      <th>goals_overall</th>\n",
       "      <th>goals_home</th>\n",
       "      <th>goals_away</th>\n",
       "      <th>...</th>\n",
       "      <th>conceded_per_90_overall</th>\n",
       "      <th>min_per_conceded_overall</th>\n",
       "      <th>min_per_match</th>\n",
       "      <th>min_per_card_overall</th>\n",
       "      <th>min_per_assist_overall</th>\n",
       "      <th>cards_per_90_overall</th>\n",
       "      <th>rank_in_league_top_attackers</th>\n",
       "      <th>rank_in_league_top_midfielders</th>\n",
       "      <th>rank_in_league_top_defenders</th>\n",
       "      <th>rank_in_club_top_scorer</th>\n",
       "    </tr>\n",
       "  </thead>\n",
       "  <tbody>\n",
       "    <tr>\n",
       "      <th>0</th>\n",
       "      <td>32</td>\n",
       "      <td>1589</td>\n",
       "      <td>888</td>\n",
       "      <td>701</td>\n",
       "      <td>20</td>\n",
       "      <td>11</td>\n",
       "      <td>9</td>\n",
       "      <td>0</td>\n",
       "      <td>0</td>\n",
       "      <td>0</td>\n",
       "      <td>...</td>\n",
       "      <td>1.25</td>\n",
       "      <td>72</td>\n",
       "      <td>79</td>\n",
       "      <td>1589</td>\n",
       "      <td>1589</td>\n",
       "      <td>0.06</td>\n",
       "      <td>290</td>\n",
       "      <td>191</td>\n",
       "      <td>80</td>\n",
       "      <td>20</td>\n",
       "    </tr>\n",
       "    <tr>\n",
       "      <th>1</th>\n",
       "      <td>35</td>\n",
       "      <td>1217</td>\n",
       "      <td>487</td>\n",
       "      <td>730</td>\n",
       "      <td>16</td>\n",
       "      <td>7</td>\n",
       "      <td>9</td>\n",
       "      <td>1</td>\n",
       "      <td>1</td>\n",
       "      <td>0</td>\n",
       "      <td>...</td>\n",
       "      <td>1.48</td>\n",
       "      <td>61</td>\n",
       "      <td>76</td>\n",
       "      <td>1217</td>\n",
       "      <td>1217</td>\n",
       "      <td>0.07</td>\n",
       "      <td>196</td>\n",
       "      <td>187</td>\n",
       "      <td>-1</td>\n",
       "      <td>10</td>\n",
       "    </tr>\n",
       "    <tr>\n",
       "      <th>2</th>\n",
       "      <td>32</td>\n",
       "      <td>2327</td>\n",
       "      <td>1190</td>\n",
       "      <td>1137</td>\n",
       "      <td>29</td>\n",
       "      <td>15</td>\n",
       "      <td>14</td>\n",
       "      <td>3</td>\n",
       "      <td>1</td>\n",
       "      <td>2</td>\n",
       "      <td>...</td>\n",
       "      <td>1.78</td>\n",
       "      <td>51</td>\n",
       "      <td>80</td>\n",
       "      <td>582</td>\n",
       "      <td>2327</td>\n",
       "      <td>0.15</td>\n",
       "      <td>144</td>\n",
       "      <td>233</td>\n",
       "      <td>-1</td>\n",
       "      <td>3</td>\n",
       "    </tr>\n",
       "    <tr>\n",
       "      <th>3</th>\n",
       "      <td>31</td>\n",
       "      <td>1327</td>\n",
       "      <td>689</td>\n",
       "      <td>638</td>\n",
       "      <td>28</td>\n",
       "      <td>14</td>\n",
       "      <td>14</td>\n",
       "      <td>4</td>\n",
       "      <td>2</td>\n",
       "      <td>2</td>\n",
       "      <td>...</td>\n",
       "      <td>0.81</td>\n",
       "      <td>111</td>\n",
       "      <td>47</td>\n",
       "      <td>0</td>\n",
       "      <td>221</td>\n",
       "      <td>0.00</td>\n",
       "      <td>69</td>\n",
       "      <td>8</td>\n",
       "      <td>-1</td>\n",
       "      <td>5</td>\n",
       "    </tr>\n",
       "    <tr>\n",
       "      <th>4</th>\n",
       "      <td>22</td>\n",
       "      <td>69</td>\n",
       "      <td>14</td>\n",
       "      <td>55</td>\n",
       "      <td>2</td>\n",
       "      <td>1</td>\n",
       "      <td>1</td>\n",
       "      <td>0</td>\n",
       "      <td>0</td>\n",
       "      <td>0</td>\n",
       "      <td>...</td>\n",
       "      <td>1.30</td>\n",
       "      <td>69</td>\n",
       "      <td>35</td>\n",
       "      <td>0</td>\n",
       "      <td>0</td>\n",
       "      <td>0.00</td>\n",
       "      <td>-1</td>\n",
       "      <td>-1</td>\n",
       "      <td>-1</td>\n",
       "      <td>31</td>\n",
       "    </tr>\n",
       "  </tbody>\n",
       "</table>\n",
       "<p>5 rows × 39 columns</p>\n",
       "</div>"
      ],
      "text/plain": [
       "   age  minutes_played_overall  minutes_played_home  minutes_played_away  \\\n",
       "0   32                    1589                  888                  701   \n",
       "1   35                    1217                  487                  730   \n",
       "2   32                    2327                 1190                 1137   \n",
       "3   31                    1327                  689                  638   \n",
       "4   22                      69                   14                   55   \n",
       "\n",
       "   appearances_overall  appearances_home  appearances_away  goals_overall  \\\n",
       "0                   20                11                 9              0   \n",
       "1                   16                 7                 9              1   \n",
       "2                   29                15                14              3   \n",
       "3                   28                14                14              4   \n",
       "4                    2                 1                 1              0   \n",
       "\n",
       "   goals_home  goals_away  ...  conceded_per_90_overall  \\\n",
       "0           0           0  ...                     1.25   \n",
       "1           1           0  ...                     1.48   \n",
       "2           1           2  ...                     1.78   \n",
       "3           2           2  ...                     0.81   \n",
       "4           0           0  ...                     1.30   \n",
       "\n",
       "   min_per_conceded_overall  min_per_match  min_per_card_overall  \\\n",
       "0                        72             79                  1589   \n",
       "1                        61             76                  1217   \n",
       "2                        51             80                   582   \n",
       "3                       111             47                     0   \n",
       "4                        69             35                     0   \n",
       "\n",
       "   min_per_assist_overall  cards_per_90_overall  rank_in_league_top_attackers  \\\n",
       "0                    1589                  0.06                           290   \n",
       "1                    1217                  0.07                           196   \n",
       "2                    2327                  0.15                           144   \n",
       "3                     221                  0.00                            69   \n",
       "4                       0                  0.00                            -1   \n",
       "\n",
       "   rank_in_league_top_midfielders  rank_in_league_top_defenders  \\\n",
       "0                             191                            80   \n",
       "1                             187                            -1   \n",
       "2                             233                            -1   \n",
       "3                               8                            -1   \n",
       "4                              -1                            -1   \n",
       "\n",
       "   rank_in_club_top_scorer  \n",
       "0                       20  \n",
       "1                       10  \n",
       "2                        3  \n",
       "3                        5  \n",
       "4                       31  \n",
       "\n",
       "[5 rows x 39 columns]"
      ]
     },
     "execution_count": 68,
     "metadata": {},
     "output_type": "execute_result"
    }
   ],
   "source": [
    "df_num = df.select_dtypes(include='number')\n",
    "df_num.head()"
   ]
  },
  {
   "cell_type": "code",
   "execution_count": 69,
   "id": "b42d916a",
   "metadata": {},
   "outputs": [
    {
     "name": "stdout",
     "output_type": "stream",
     "text": [
      "total features foe each player: 39\n"
     ]
    }
   ],
   "source": [
    "cols2 = df_num.columns\n",
    "print(f'total features foe each player: {len(cols2)}')"
   ]
  },
  {
   "cell_type": "markdown",
   "id": "8a6980b2",
   "metadata": {},
   "source": [
    "### Getting Labels"
   ]
  },
  {
   "cell_type": "code",
   "execution_count": 195,
   "id": "3632a191",
   "metadata": {},
   "outputs": [
    {
     "name": "stdout",
     "output_type": "stream",
     "text": [
      "['Defender' 'Forward' 'Goalkeeper' 'Midfielder']\n"
     ]
    },
    {
     "data": {
      "image/png": "[encoded data removed]",
      "text/plain": [
       "<Figure size 432x288 with 1 Axes>"
      ]
     },
     "metadata": {
      "needs_background": "light"
     },
     "output_type": "display_data"
    }
   ],
   "source": [
    "y = df['position']\n",
    "u, c = np.unique(y, return_counts=True)\n",
    "print(u)\n",
    "plt.bar(u,c);"
   ]
  },
  {
   "cell_type": "code",
   "execution_count": 196,
   "id": "2640402c",
   "metadata": {},
   "outputs": [
    {
     "data": {
      "text/plain": [
       "numpy.ndarray"
      ]
     },
     "execution_count": 196,
     "metadata": {},
     "output_type": "execute_result"
    }
   ],
   "source": [
    "y2 = np.array(y)\n",
    "type(y2)"
   ]
  },
  {
   "cell_type": "code",
   "execution_count": 197,
   "id": "a754a228",
   "metadata": {},
   "outputs": [],
   "source": [
    "def get_dummy_position(x):\n",
    "    if x == 'Goalkeeper':\n",
    "        f = [1, 0, 0, 0]\n",
    "    elif x == 'Defender':\n",
    "        f = [0, 1, 0, 0]\n",
    "    elif x == 'Midfielder':\n",
    "        f = [0, 0, 1, 0]\n",
    "    elif x == 'Forward':\n",
    "        f = [0, 0, 0, 1]\n",
    "    else:\n",
    "        raise ValueError(\"Wrong position name!!!!!!!!!!!!!!!!!\")\n",
    "    return f\n",
    "\n",
    "def find_index(lista):\n",
    "    for i, elemento in enumerate(lista):\n",
    "        if elemento == 1:\n",
    "            return i\n",
    "    return None"
   ]
  },
  {
   "cell_type": "code",
   "execution_count": 200,
   "id": "7adda7f6",
   "metadata": {},
   "outputs": [],
   "source": [
    "y2_dummy, y2_indexes = [], []\n",
    "for i in range(len(y2)):\n",
    "    y2_dummy.append(get_dummy_position(y2[i]))\n",
    "    y2_indexes.append(find_index(y2_dummy[i]))\n",
    "y2_dummy = np.array(y2_dummy)"
   ]
  },
  {
   "cell_type": "code",
   "execution_count": 202,
   "id": "d40a6275",
   "metadata": {},
   "outputs": [],
   "source": [
    "y2_dummy_tensor = torch.tensor(y2_dummy)"
   ]
  },
  {
   "cell_type": "markdown",
   "id": "e3c21eb9",
   "metadata": {},
   "source": [
    "### Getting Features"
   ]
  },
  {
   "cell_type": "code",
   "execution_count": 203,
   "id": "dd95066f",
   "metadata": {},
   "outputs": [],
   "source": [
    "# Convertiamo il DataFrame in un tensore PyTorch\n",
    "tensor = torch.tensor(df_num.values, dtype=torch.float32)\n",
    "mean = torch.mean(tensor)\n",
    "std = torch.std(tensor)\n",
    "\n",
    "# Normalizziamo il tensore\n",
    "tensor = (tensor - mean) / std"
   ]
  },
  {
   "cell_type": "code",
   "execution_count": 204,
   "id": "98e5bb31",
   "metadata": {},
   "outputs": [
    {
     "data": {
      "text/plain": [
       "tensor([-0.2187,  3.7393,  1.9573,  1.4819, -0.2492, -0.2721, -0.2772, -0.3000,\n",
       "        -0.3000, -0.3000, -0.2975, -0.2975, -0.3000, -0.3000, -0.3000, -0.2924,\n",
       "        -0.2950, -0.2975, -0.2441, -0.2695, -0.2746, -0.2975, -0.3000, -0.2999,\n",
       "        -0.2999, -0.3000, -0.3000, -0.3000, -0.3000, -0.2969, -0.1170, -0.0992,\n",
       "         3.7393,  3.7393, -0.2999,  0.4372,  0.1855, -0.0967, -0.2492])"
      ]
     },
     "execution_count": 204,
     "metadata": {},
     "output_type": "execute_result"
    }
   ],
   "source": [
    "tensor[0]"
   ]
  },
  {
   "cell_type": "markdown",
   "id": "129998c0",
   "metadata": {},
   "source": [
    "# Set X, y"
   ]
  },
  {
   "cell_type": "code",
   "execution_count": 205,
   "id": "ef93eb4f",
   "metadata": {},
   "outputs": [],
   "source": [
    "X = tensor.clone()\n",
    "y = y2_dummy_tensor.clone()"
   ]
  },
  {
   "cell_type": "code",
   "execution_count": 206,
   "id": "aef37b64",
   "metadata": {},
   "outputs": [
    {
     "name": "stdout",
     "output_type": "stream",
     "text": [
      "Data shape: torch.Size([570, 39])\n",
      "Labels shape: torch.Size([570, 4])\n"
     ]
    }
   ],
   "source": [
    "# check sizes\n",
    "print(f'Data shape: {X.shape}')\n",
    "print(f'Labels shape: {y.shape}')"
   ]
  },
  {
   "cell_type": "markdown",
   "id": "0d4c8a1a",
   "metadata": {},
   "source": [
    "Divide in training and validation"
   ]
  },
  {
   "cell_type": "code",
   "execution_count": 235,
   "id": "66825250",
   "metadata": {},
   "outputs": [
    {
     "name": "stdout",
     "output_type": "stream",
     "text": [
      "Training Samples: 456\n",
      "Training Data shape: torch.Size([456, 39])\n",
      "Training Labels shape: torch.Size([456, 4])\n"
     ]
    }
   ],
   "source": [
    "perc = 0.8\n",
    "L = int(X.shape[0] * perc)\n",
    "print(f'Training Samples: {L}')\n",
    "\n",
    "X_train, X_val = X[:L], X[L:]\n",
    "y_train, y_val = y[:L], y[L:]\n",
    "y_indexes_train, y_indexes_val = y2_indexes[:L], y2_indexes[:L]\n",
    "\n",
    "# check\n",
    "print(f'Training Data shape: {X_train.shape}')\n",
    "print(f'Training Labels shape: {y_train.shape}')"
   ]
  },
  {
   "cell_type": "markdown",
   "id": "67c65d8d",
   "metadata": {},
   "source": [
    "--------------------------------------------------------"
   ]
  },
  {
   "cell_type": "markdown",
   "id": "80318d27",
   "metadata": {},
   "source": [
    "## Built Autoencoder"
   ]
  },
  {
   "cell_type": "code",
   "execution_count": 208,
   "id": "e38731d9",
   "metadata": {},
   "outputs": [],
   "source": [
    "import torch\n",
    "import torchvision\n",
    "from torchvision import transforms\n",
    "from torch.utils.data import DataLoader\n",
    "from torch.utils.data import TensorDataset, DataLoader\n",
    "from torch import nn"
   ]
  },
  {
   "cell_type": "code",
   "execution_count": 209,
   "id": "cafd3d40",
   "metadata": {},
   "outputs": [
    {
     "name": "stdout",
     "output_type": "stream",
     "text": [
      "input dimension: 39\n"
     ]
    }
   ],
   "source": [
    "input_dimension = X_train.shape[1]\n",
    "print(f'input dimension: {input_dimension}')"
   ]
  },
  {
   "cell_type": "code",
   "execution_count": 290,
   "id": "76d169e0",
   "metadata": {},
   "outputs": [],
   "source": [
    "class Encoder(nn.Module):\n",
    "    \n",
    "    def __init__(self, encoded_space_dim):\n",
    "        super().__init__()\n",
    "\n",
    "        ### Linear section\n",
    "        self.encoder_lin = nn.Sequential(\n",
    "            # -----------1st\n",
    "            nn.Linear(in_features=39, out_features=30),\n",
    "            nn.Dropout(0.2),\n",
    "            nn.SELU(),\n",
    "            # -----------2nd\n",
    "            nn.Linear(in_features=30, out_features=15),\n",
    "            nn.Dropout(0.2),\n",
    "            nn.SELU(),\n",
    "            # -----------3rd\n",
    "            nn.Linear(in_features=15, out_features=10),\n",
    "            nn.SELU(),\n",
    "            # -----------4th\n",
    "            nn.Linear(in_features=10, out_features=encoded_space_dim)\n",
    "        )\n",
    "        \n",
    "    def forward(self, x):\n",
    "        x = self.encoder_lin(x)\n",
    "        return x"
   ]
  },
  {
   "cell_type": "code",
   "execution_count": 291,
   "id": "309c467c",
   "metadata": {},
   "outputs": [],
   "source": [
    "class Decoder(nn.Module):\n",
    "    \n",
    "    def __init__(self, encoded_space_dim):\n",
    "        super().__init__()\n",
    "\n",
    "        ### Linear section\n",
    "        self.decoder_lin = nn.Sequential(\n",
    "            # -------------1st\n",
    "            nn.Linear(in_features=encoded_space_dim, out_features=10),\n",
    "            nn.SELU(),\n",
    "            # ------------2nd\n",
    "            nn.Linear(in_features=10, out_features=15),\n",
    "            nn.SELU(),\n",
    "             # ------------3rd\n",
    "            nn.Linear(in_features=15, out_features=30),\n",
    "            nn.SELU(),\n",
    "             # ------------4th\n",
    "            nn.Linear(in_features=30, out_features=39),\n",
    "        )\n",
    "\n",
    "        \n",
    "    def forward(self, x):\n",
    "        x = self.decoder_lin(x)\n",
    "#         x = torch.sigmoid(x)\n",
    "        return x"
   ]
  },
  {
   "cell_type": "code",
   "execution_count": 292,
   "id": "0ef486bc",
   "metadata": {},
   "outputs": [
    {
     "name": "stdout",
     "output_type": "stream",
     "text": [
      "tensor([-0.2366,  0.5859, -0.1697, -0.0391, -0.5756, -0.0354, -0.1714,  0.2005,\n",
      "         0.2565, -0.0863,  0.3287,  0.1982,  0.3547, -0.2872, -0.2072, -0.3800,\n",
      "        -0.2305,  0.2983, -0.0266, -0.2770,  0.1263, -0.1024,  0.0456,  0.2350,\n",
      "         0.2527, -0.2716, -0.0588, -0.0077,  0.0518, -0.0229, -0.1298,  0.1894,\n",
      "        -0.3209, -0.3253,  0.2543, -0.3937,  0.0544, -0.3839,  0.7038],\n",
      "       grad_fn=<AddBackward0>)\n"
     ]
    }
   ],
   "source": [
    "# check Enc-Dec working\n",
    "t_ex = X_train[10]\n",
    "enc = Encoder(2)\n",
    "dec = Decoder(2)\n",
    "encoded_ex = enc(t_ex)\n",
    "decoded_ex = dec(encoded_ex)\n",
    "print(decoded_ex)"
   ]
  },
  {
   "cell_type": "code",
   "execution_count": 293,
   "id": "83d9de83",
   "metadata": {},
   "outputs": [
    {
     "data": {
      "image/png": "[encoded data removed]",
      "text/plain": [
       "<Figure size 432x288 with 1 Axes>"
      ]
     },
     "metadata": {
      "needs_background": "light"
     },
     "output_type": "display_data"
    }
   ],
   "source": [
    "plt.bar(df_num.columns, t_ex)\n",
    "plt.bar(df_num.columns, decoded_ex.detach().numpy(), color='red', alpha=0.5);"
   ]
  },
  {
   "cell_type": "markdown",
   "id": "5ced50b7",
   "metadata": {},
   "source": [
    "Get Dataloaders"
   ]
  },
  {
   "cell_type": "code",
   "execution_count": 294,
   "id": "8753796d",
   "metadata": {},
   "outputs": [
    {
     "name": "stdout",
     "output_type": "stream",
     "text": [
      "1 batches\n",
      "<class 'torch.Tensor'>\n",
      "2 batches\n",
      "<class 'torch.Tensor'>\n",
      "3 batches\n",
      "<class 'torch.Tensor'>\n",
      "4 batches\n",
      "<class 'torch.Tensor'>\n",
      "5 batches\n",
      "<class 'torch.Tensor'>\n",
      "6 batches\n",
      "<class 'torch.Tensor'>\n",
      "7 batches\n",
      "<class 'torch.Tensor'>\n",
      "8 batches\n",
      "<class 'torch.Tensor'>\n",
      "9 batches\n",
      "<class 'torch.Tensor'>\n",
      "10 batches\n",
      "<class 'torch.Tensor'>\n",
      "11 batches\n",
      "<class 'torch.Tensor'>\n",
      "12 batches\n",
      "<class 'torch.Tensor'>\n",
      "13 batches\n",
      "<class 'torch.Tensor'>\n",
      "14 batches\n",
      "<class 'torch.Tensor'>\n"
     ]
    }
   ],
   "source": [
    "batch_size = 32\n",
    "\n",
    "# Creare un oggetto TensorDataset\n",
    "X_train_dataloader = DataLoader(TensorDataset(X_train), batch_size=batch_size, shuffle=False, drop_last=True)\n",
    "X_val_dataloader = DataLoader(TensorDataset(X_val), batch_size=batch_size, shuffle=False, drop_last=True)\n",
    "y_train_dataloader = DataLoader(TensorDataset(y_train), batch_size=batch_size, shuffle=False, drop_last=True)\n",
    "y_val_dataloader = DataLoader(TensorDataset(y_val), batch_size=batch_size, shuffle=False, drop_last=True)\n",
    "for i,d in enumerate(X_train_dataloader):\n",
    "    print(f'{i + 1} batches')\n",
    "    print(f'{type(d[0])}')"
   ]
  },
  {
   "cell_type": "markdown",
   "id": "b15e2a17",
   "metadata": {},
   "source": [
    "Initialize parameters for training"
   ]
  },
  {
   "cell_type": "markdown",
   "id": "28957ddb",
   "metadata": {},
   "source": [
    "-----------------------"
   ]
  },
  {
   "cell_type": "code",
   "execution_count": 295,
   "id": "509bab56",
   "metadata": {},
   "outputs": [],
   "source": [
    "### Training function\n",
    "def train_epoch(encoder, decoder, device, dataloader, loss_fn, optimizer):\n",
    "    # Set train mode for both the encoder and the decoder\n",
    "    encoder.train()\n",
    "    decoder.train()\n",
    "    losses = []\n",
    "    # Iterate the dataloader (we do not need the label values, this is unsupervised learning)\n",
    "    for x in dataloader: # with \"_\" we just ignore the labels (the second element of the dataloader tuple)\n",
    "        # Move tensor to the proper device\n",
    "        x = x[0].to(device)\n",
    "        # Encode data\n",
    "        encoded_data = encoder(x)\n",
    "        # Decode data\n",
    "        decoded_data = decoder(encoded_data)\n",
    "        # Evaluate loss\n",
    "        loss = loss_fn(decoded_data, x)\n",
    "        # Backward pass\n",
    "        optimizer.zero_grad()\n",
    "        loss.backward()\n",
    "        optimizer.step()\n",
    "        \n",
    "        losses.append(loss.detach().cpu().numpy())\n",
    "    losses = np.mean(losses)\n",
    "    return losses"
   ]
  },
  {
   "cell_type": "code",
   "execution_count": 296,
   "id": "1cb0b5cf",
   "metadata": {},
   "outputs": [],
   "source": [
    "### Testing function\n",
    "def test_epoch(encoder, decoder, device, dataloader, loss_fn):\n",
    "    # Set evaluation mode for encoder and decoder\n",
    "    encoder.eval()\n",
    "    decoder.eval()\n",
    "    with torch.no_grad(): # No need to track the gradients\n",
    "        # Define the lists to store the outputs for each batch\n",
    "        conc_out = []\n",
    "        conc_label = []\n",
    "        for x in dataloader:\n",
    "            # Move tensor to the proper device\n",
    "            x = x[0].to(device)\n",
    "            # Encode data\n",
    "            encoded_data = encoder(x)\n",
    "            # Decode data\n",
    "            decoded_data = decoder(encoded_data)\n",
    "            # Append the network output and the original image to the lists\n",
    "            conc_out.append(decoded_data.cpu())\n",
    "            conc_label.append(x.cpu())\n",
    "        # Create a single tensor with all the values in the lists\n",
    "        conc_out = torch.cat(conc_out)\n",
    "        conc_label = torch.cat(conc_label) \n",
    "        # Evaluate global loss\n",
    "        val_loss = loss_fn(conc_out, conc_label)\n",
    "    return val_loss.data"
   ]
  },
  {
   "cell_type": "markdown",
   "id": "c6ea6a1a",
   "metadata": {},
   "source": [
    "----------------"
   ]
  },
  {
   "cell_type": "code",
   "execution_count": 302,
   "id": "ef025f91",
   "metadata": {},
   "outputs": [
    {
     "name": "stdout",
     "output_type": "stream",
     "text": [
      "Selected device: cpu\n"
     ]
    },
    {
     "data": {
      "text/plain": [
       "Decoder(\n",
       "  (decoder_lin): Sequential(\n",
       "    (0): Linear(in_features=4, out_features=10, bias=True)\n",
       "    (1): SELU()\n",
       "    (2): Linear(in_features=10, out_features=15, bias=True)\n",
       "    (3): SELU()\n",
       "    (4): Linear(in_features=15, out_features=30, bias=True)\n",
       "    (5): SELU()\n",
       "    (6): Linear(in_features=30, out_features=39, bias=True)\n",
       "  )\n",
       ")"
      ]
     },
     "execution_count": 302,
     "metadata": {},
     "output_type": "execute_result"
    }
   ],
   "source": [
    "latent_space = 4\n",
    "encoder = Encoder(latent_space)\n",
    "decoder = Decoder(latent_space)\n",
    "\n",
    "### Define the loss function\n",
    "loss_fn = torch.nn.MSELoss()\n",
    "# loss_fn = nn.CrossEntropyLoss()\n",
    "\n",
    "### Define an optimizer (both for the encoder and the decoder!)\n",
    "lr = 5e-4 # Learning rate\n",
    "params_to_optimize = [\n",
    "    {'params': encoder.parameters(), \"lr\": 0.0001},\n",
    "    {'params': decoder.parameters(), \"lr\": 0.0001}\n",
    "]\n",
    "optimizer = torch.optim.Adam(params_to_optimize, lr=lr, weight_decay=1e-5)\n",
    "\n",
    "# Check if the GPU is available\n",
    "device = torch.device(\"cuda\") if torch.cuda.is_available() else torch.device(\"cpu\")\n",
    "print(f'Selected device: {device}')\n",
    "\n",
    "# Move both the encoder and the decoder to the selected device\n",
    "encoder.to(device)\n",
    "decoder.to(device)"
   ]
  },
  {
   "cell_type": "code",
   "execution_count": 303,
   "id": "b8acc82e",
   "metadata": {},
   "outputs": [
    {
     "name": "stdout",
     "output_type": "stream",
     "text": [
      "EPOCH 1500/1500\n",
      "TRAIN - EPOCH 1500/1500 - loss: 0.045342136174440384\n",
      "VALIDATION - EPOCH 1500/1500 - loss: 0.05410454422235489\n",
      "\n"
     ]
    }
   ],
   "source": [
    "### Training cycle\n",
    "num_epochs = 1500\n",
    "TL, VL = [], []\n",
    "for epoch in range(num_epochs):\n",
    "    clear_output(wait=True)\n",
    "    print('EPOCH %d/%d' % (epoch + 1, num_epochs))\n",
    "    ### Training (use the training function)\n",
    "    train_loss = train_epoch(\n",
    "        encoder=encoder, \n",
    "        decoder=decoder, \n",
    "        device=device, \n",
    "        dataloader=X_train_dataloader, \n",
    "        loss_fn=loss_fn, \n",
    "        optimizer=optimizer)\n",
    "    print(f'TRAIN - EPOCH {epoch+1}/{num_epochs} - loss: {train_loss}')\n",
    "    TL.append(train_loss)\n",
    "\n",
    "    ### Validation  (use the testing function)\n",
    "    val_loss = test_epoch(\n",
    "        encoder=encoder, \n",
    "        decoder=decoder, \n",
    "        device=device, \n",
    "        dataloader=X_val_dataloader, \n",
    "        loss_fn=loss_fn)\n",
    "    # Print Validationloss\n",
    "    print(f'VALIDATION - EPOCH {epoch+1}/{num_epochs} - loss: {val_loss}\\n')\n",
    "    VL.append(val_loss.item())\n"
   ]
  },
  {
   "cell_type": "code",
   "execution_count": 304,
   "id": "e984e748",
   "metadata": {},
   "outputs": [
    {
     "data": {
      "text/plain": [
       "[<matplotlib.lines.Line2D at 0x1f15a679550>]"
      ]
     },
     "execution_count": 304,
     "metadata": {},
     "output_type": "execute_result"
    },
    {
     "data": {
      "image/png": "[encoded data removed]",
      "text/plain": [
       "<Figure size 432x288 with 1 Axes>"
      ]
     },
     "metadata": {
      "needs_background": "light"
     },
     "output_type": "display_data"
    }
   ],
   "source": [
    "plt.plot(TL)\n",
    "plt.plot(VL)"
   ]
  },
  {
   "cell_type": "markdown",
   "id": "4cb40ae4",
   "metadata": {},
   "source": [
    "------------------------------"
   ]
  },
  {
   "cell_type": "code",
   "execution_count": 312,
   "id": "c9e850b4",
   "metadata": {},
   "outputs": [
    {
     "data": {
      "image/png": "[encoded data removed]",
      "text/plain": [
       "<Figure size 1080x288 with 3 Axes>"
      ]
     },
     "metadata": {
      "needs_background": "light"
     },
     "output_type": "display_data"
    }
   ],
   "source": [
    "# check Enc-Dec working\n",
    "encoder.eval()\n",
    "decoder.eval()\n",
    "colors = ['red', 'blue', 'green', 'orange', 'pink']\n",
    "\n",
    "f, ax = plt.subplots(1, 3, figsize=(15,4))\n",
    "for i in range(400):\n",
    "    t_ex = X_train[i]\n",
    "    encoded_ex = encoder(t_ex)\n",
    "    decoded_ex = decoder(encoded_ex)\n",
    "    # plot\n",
    "    # f, ax = plt.subplots(1, 2, figsize=(12,4))\n",
    "    # ax[0].bar(df_num.columns, t_ex)\n",
    "    # ax[0].bar(df_num.columns, decoded_ex.detach().numpy(), color='red', alpha=0.5)\n",
    "    ax[0].scatter(encoded_ex[0].item(), encoded_ex[1].item(), c=colors[y_indexes_train[i]])\n",
    "    ax[1].scatter(encoded_ex[1].item(), encoded_ex[2].item(), c=colors[y_indexes_train[i]])\n",
    "    ax[2].scatter(encoded_ex[0].item(), encoded_ex[3].item(), c=colors[y_indexes_train[i]])\n",
    "    \n",
    "plt.title('GK: red - DF: blue - MF: green - FW: orange');"
   ]
  },
  {
   "cell_type": "code",
   "execution_count": 314,
   "id": "03e11be1",
   "metadata": {},
   "outputs": [
    {
     "data": {
      "image/png": "[encoded data removed]",
      "text/plain": [
       "<Figure size 432x288 with 1 Axes>"
      ]
     },
     "metadata": {
      "needs_background": "light"
     },
     "output_type": "display_data"
    }
   ],
   "source": [
    "encoder.eval()\n",
    "decoder.eval()\n",
    "\n",
    "t_ex = X_train[89]\n",
    "encoded_ex = encoder(t_ex)\n",
    "decoded_ex = decoder(encoded_ex)\n",
    "# plot\n",
    "plt.bar(df_num.columns, t_ex)\n",
    "plt.bar(df_num.columns, decoded_ex.detach().numpy(), color='red', alpha=0.5)\n",
    "plt.xticks(rotation=90);"
   ]
  },
  {
   "cell_type": "code",
   "execution_count": null,
   "id": "e917e51c",
   "metadata": {},
   "outputs": [],
   "source": []
  }
 ],
 "metadata": {
  "kernelspec": {
   "display_name": "Python [conda env:tensorflow]",
   "language": "python",
   "name": "conda-env-tensorflow-py"
  },
  "language_info": {
   "codemirror_mode": {
    "name": "ipython",
    "version": 3
   },
   "file_extension": ".py",
   "mimetype": "text/x-python",
   "name": "python",
   "nbconvert_exporter": "python",
   "pygments_lexer": "ipython3",
   "version": "3.9.12"
  }
 },
 "nbformat": 4,
 "nbformat_minor": 5
}
